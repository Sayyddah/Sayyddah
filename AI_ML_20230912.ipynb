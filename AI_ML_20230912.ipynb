{
  "nbformat": 4,
  "nbformat_minor": 0,
  "metadata": {
    "colab": {
      "provenance": [],
      "authorship_tag": "ABX9TyMQbQktPe77ScSgYkjNPuzs",
      "include_colab_link": true
    },
    "kernelspec": {
      "name": "python3",
      "display_name": "Python 3"
    },
    "language_info": {
      "name": "python"
    }
  },
  "cells": [
    {
      "cell_type": "markdown",
      "metadata": {
        "id": "view-in-github",
        "colab_type": "text"
      },
      "source": [
        "<a href=\"https://colab.research.google.com/github/Sayyddah/Sayyddah/blob/main/AI_ML_20230912.ipynb\" target=\"_parent\"><img src=\"https://colab.research.google.com/assets/colab-badge.svg\" alt=\"Open In Colab\"/></a>"
      ]
    },
    {
      "cell_type": "code",
      "execution_count": 1,
      "metadata": {
        "colab": {
          "base_uri": "https://localhost:8080/"
        },
        "id": "5q_-eRhgrQtt",
        "outputId": "90e5e560-6eb1-47b4-90a0-c4d982b955dc"
      },
      "outputs": [
        {
          "output_type": "stream",
          "name": "stdout",
          "text": [
            "My name is Saidat\n"
          ]
        }
      ],
      "source": [
        "print(\"My name is Saidat\")"
      ]
    },
    {
      "cell_type": "code",
      "source": [
        "name = \"Saidat\"\n",
        "print(\"My name is \" + name)"
      ],
      "metadata": {
        "colab": {
          "base_uri": "https://localhost:8080/"
        },
        "id": "dvGh2j6HrwLV",
        "outputId": "ec09499d-053d-4854-b6b3-9560fbbeef5f"
      },
      "execution_count": 2,
      "outputs": [
        {
          "output_type": "stream",
          "name": "stdout",
          "text": [
            "My name is Saidat\n"
          ]
        }
      ]
    },
    {
      "cell_type": "code",
      "source": [
        "name = \"A123\"\n",
        "\n",
        "x = \"Sam\"\n",
        "type(x)"
      ],
      "metadata": {
        "id": "0e5cQUEbskv6"
      },
      "execution_count": 4,
      "outputs": []
    },
    {
      "cell_type": "code",
      "source": [
        "x = 12\n",
        "x = [1, 2, 3]\n",
        "\n",
        "#Types of data types in python -> List,, Dictionary\n",
        "\n",
        "\n",
        "type(x)\n",
        "#Python is data-type agnostic\n",
        "names = [\"Saidat\", \"Helen\", \"Sam\"] #create a list\n",
        "\n",
        "names.append(123) # add a new value to the list\n",
        "names.append(\"True\")\n",
        "names\n",
        "\n",
        "offices = [\"Royal\", \"Sierra\"]\n",
        "\n",
        "print(\"Vistra has \" + str(len(offices)) + \" offices.\")\n",
        "\n",
        "offices.reverse() # reverse order in list\n",
        "\n",
        "offices\n"
      ],
      "metadata": {
        "colab": {
          "base_uri": "https://localhost:8080/"
        },
        "id": "zY6azob0r39f",
        "outputId": "44ee10a4-6fed-4b0f-eb2d-4627202afe92"
      },
      "execution_count": 14,
      "outputs": [
        {
          "output_type": "stream",
          "name": "stdout",
          "text": [
            "Vistra has 2 offices.\n"
          ]
        },
        {
          "output_type": "execute_result",
          "data": {
            "text/plain": [
              "['Sierra', 'Royal']"
            ]
          },
          "metadata": {},
          "execution_count": 14
        }
      ]
    },
    {
      "cell_type": "code",
      "source": [
        "dict = {'Royal': '1925 Royal Lane', 'Sierra': '6555 Sierra Dr'}\n",
        "\n",
        "dict['Royal']"
      ],
      "metadata": {
        "colab": {
          "base_uri": "https://localhost:8080/",
          "height": 35
        },
        "id": "VqOl1KOvtuH2",
        "outputId": "83a822d8-d0db-456d-ee7f-7e3641878e89"
      },
      "execution_count": 15,
      "outputs": [
        {
          "output_type": "execute_result",
          "data": {
            "text/plain": [
              "'1925 Royal Lane'"
            ],
            "application/vnd.google.colaboratory.intrinsic+json": {
              "type": "string"
            }
          },
          "metadata": {},
          "execution_count": 15
        }
      ]
    },
    {
      "cell_type": "markdown",
      "source": [],
      "metadata": {
        "id": "1IR21MSBvz0K"
      }
    },
    {
      "cell_type": "code",
      "source": [
        "2 ** 5  #raise 2 to the power of 5"
      ],
      "metadata": {
        "colab": {
          "base_uri": "https://localhost:8080/"
        },
        "id": "4Tl4Xwl0vD5u",
        "outputId": "31e927b8-fa9d-4f22-ee33-5b2641458a2d"
      },
      "execution_count": 16,
      "outputs": [
        {
          "output_type": "execute_result",
          "data": {
            "text/plain": [
              "32"
            ]
          },
          "metadata": {},
          "execution_count": 16
        }
      ]
    },
    {
      "cell_type": "code",
      "source": [
        "import numpy as np #import numpy library and rename as np, used for numerical operations"
      ],
      "metadata": {
        "id": "m55v8zSOv-6q"
      },
      "execution_count": 21,
      "outputs": []
    },
    {
      "cell_type": "code",
      "source": [
        "x = np.array([1,2,3])\n",
        "type(x)"
      ],
      "metadata": {
        "colab": {
          "base_uri": "https://localhost:8080/"
        },
        "id": "BFcuR6T2waMQ",
        "outputId": "8e344cc6-56e6-439c-816d-e8cefb92a6fd"
      },
      "execution_count": 22,
      "outputs": [
        {
          "output_type": "execute_result",
          "data": {
            "text/plain": [
              "numpy.ndarray"
            ]
          },
          "metadata": {},
          "execution_count": 22
        }
      ]
    },
    {
      "cell_type": "code",
      "source": [
        "x*5       #multiply all values in array by 5"
      ],
      "metadata": {
        "colab": {
          "base_uri": "https://localhost:8080/"
        },
        "id": "Tt_UBQzRxIcA",
        "outputId": "8ce7575b-b298-44d7-f14a-af0d06a1b075"
      },
      "execution_count": 23,
      "outputs": [
        {
          "output_type": "execute_result",
          "data": {
            "text/plain": [
              "array([ 5, 10, 15])"
            ]
          },
          "metadata": {},
          "execution_count": 23
        }
      ]
    },
    {
      "cell_type": "code",
      "source": [
        "len(x)\n",
        "x.shape   #get shape of array"
      ],
      "metadata": {
        "colab": {
          "base_uri": "https://localhost:8080/"
        },
        "id": "91ZJ0KDwxNOg",
        "outputId": "b4bd1e11-b3da-413a-87df-4bf390f347f3"
      },
      "execution_count": 26,
      "outputs": [
        {
          "output_type": "execute_result",
          "data": {
            "text/plain": [
              "(3,)"
            ]
          },
          "metadata": {},
          "execution_count": 26
        }
      ]
    },
    {
      "cell_type": "code",
      "source": [
        "np.random.random(5) #generate 5 random numbers, default is between 0 and 1\n",
        "np.random.randint(1,7)    #simulate rolling of dice, give 1 random integer between 1 and 6\n",
        "np.random.randint(1,7,10)    #give 10 random integers between 1 and 6"
      ],
      "metadata": {
        "colab": {
          "base_uri": "https://localhost:8080/"
        },
        "id": "YBvzzpFqxV2m",
        "outputId": "bf2e79cc-535a-45f5-e9c1-dfbfbef72268"
      },
      "execution_count": 32,
      "outputs": [
        {
          "output_type": "execute_result",
          "data": {
            "text/plain": [
              "array([5, 1, 2, 6, 6, 4, 4, 1, 4, 5])"
            ]
          },
          "metadata": {},
          "execution_count": 32
        }
      ]
    },
    {
      "cell_type": "code",
      "source": [
        "#game of craps (roll 2 dice at the same time and add the numbers together)\n",
        "\n",
        "dice1 = np.random.randint(1, 7, 1000)   #roll dice 100 times\n",
        "dice2 = np.random.randint(1, 7, 1000)\n",
        "\n",
        "sumofDice = dice1 + dice2\n",
        "\n",
        "sumofDice\n",
        "\n",
        "# if sumofDice.any == 7:\n",
        "#     print(\"Congrats! You win!\")\n",
        "# elif sumofDice.any == 11:\n",
        "#     print(\"I win!\")\n"
      ],
      "metadata": {
        "colab": {
          "base_uri": "https://localhost:8080/"
        },
        "id": "aBkvstd9xzgu",
        "outputId": "781a2fb2-fb30-4e58-fffe-4a92babd44bb"
      },
      "execution_count": 49,
      "outputs": [
        {
          "output_type": "execute_result",
          "data": {
            "text/plain": [
              "array([ 4, 11,  5,  3,  8,  9,  9, 10, 10,  4,  2,  9,  6,  9,  7,  8, 11,\n",
              "        5, 11,  8,  3,  5,  6,  5,  8,  5,  4,  4,  3,  5,  8,  8,  8,  5,\n",
              "        4,  3, 11,  4,  9,  7,  8,  9,  6, 10,  3, 11,  8,  2, 12,  7,  7,\n",
              "        7,  8,  7,  9,  3,  8,  9,  5,  7,  5,  6,  8,  5,  5, 11,  6,  6,\n",
              "        9,  2, 11,  9,  7,  3,  6,  9,  8,  8,  6,  7, 10, 12, 10,  8,  5,\n",
              "        8,  6,  2,  8, 10,  6,  6,  3,  8,  7,  8, 11,  8,  9,  5,  6,  8,\n",
              "        9,  6,  6, 10,  9,  7,  8,  9, 10,  3, 10,  9,  8,  4, 12,  7,  5,\n",
              "        6,  6, 11,  8,  7,  7,  8,  5,  3,  5,  7, 10,  4,  3,  6,  8,  6,\n",
              "        5, 11, 10,  5,  7,  8,  4,  8, 10, 11,  4,  2,  7,  8, 11,  2,  3,\n",
              "        7, 11,  6,  5,  7,  5,  7,  4, 12,  4,  4,  7,  6,  9,  4,  8,  9,\n",
              "        9,  4,  8,  6, 10,  5,  8,  5, 10,  8,  6,  7,  4, 12,  6,  7, 12,\n",
              "        8,  3,  8,  2,  9,  6,  9, 10,  6,  5,  9, 10,  9,  4,  3,  6,  2,\n",
              "        6,  5,  9,  2,  5,  5,  7,  5,  3,  2,  6,  5, 10,  8, 10,  8,  4,\n",
              "       10, 12, 10,  9,  6,  7,  7,  3,  6,  5, 10,  9,  8,  6, 10,  7,  7,\n",
              "       12,  6,  4,  6,  6,  6,  9,  7, 11,  6,  5,  8,  7,  5, 11,  5, 10,\n",
              "       12,  6,  9,  8,  8, 10,  7,  7, 12,  8, 11,  6,  8, 10,  4,  9,  7,\n",
              "        5,  5,  4,  6,  3,  7,  3,  8,  6,  7,  7,  6,  5,  7,  4,  9,  5,\n",
              "        8,  9,  2,  8,  3,  8,  8,  8,  3,  6, 10,  6,  6,  7,  7, 12,  5,\n",
              "        5,  9,  7,  7,  6,  5,  7,  5,  4,  5,  7,  9,  8,  6,  5, 11,  5,\n",
              "        7,  8,  7, 12,  8,  9,  8,  4,  4, 10,  8,  7,  8,  6,  6, 10,  7,\n",
              "        7,  5,  7, 10,  6,  4, 10,  5,  7,  7,  9,  7,  7,  9,  7,  9,  7,\n",
              "       12,  7,  6, 10,  8,  3,  4,  3,  7,  2,  3,  8,  5,  7,  7,  8,  9,\n",
              "        7, 10,  6,  7,  6, 10, 10,  7,  5, 10,  7, 10,  3,  7, 10,  3,  7,\n",
              "        5, 11,  7,  8,  6,  5,  7,  6,  9,  7,  8,  4,  8, 11,  7,  6, 10,\n",
              "       11,  7,  5,  9,  8,  5,  6,  4,  7,  7,  9,  7,  9, 10,  4, 10, 10,\n",
              "        6,  7,  7,  7,  5,  3,  5,  8,  3,  7,  2,  6,  7,  7,  7,  6, 10,\n",
              "        7,  6,  5, 10,  7, 10, 11, 10,  9,  5,  5, 10,  4, 12,  6,  5,  8,\n",
              "        9,  4, 11,  7,  8,  8,  5,  7,  8,  6, 12,  9,  6,  6,  5,  7,  8,\n",
              "        7,  6,  7,  7,  6,  7,  7, 10,  9,  8,  4,  8,  8, 10,  5,  5,  6,\n",
              "        4,  9,  5,  5, 11,  5,  9,  8,  3,  7,  7, 11, 10, 10,  7,  6,  8,\n",
              "        5,  9,  9,  5,  4,  9,  7,  6,  9,  9,  6,  5,  3,  7,  2,  8,  6,\n",
              "        7,  7,  9,  8,  5,  4,  7,  8,  5,  6,  6,  7,  4,  3,  7,  2,  7,\n",
              "        6,  6,  7,  6,  6, 12,  7,  8,  6,  5,  5, 10,  9,  8,  4,  2,  4,\n",
              "        8, 10,  6,  6, 11,  5,  4,  2,  9,  7,  6, 10,  9,  4,  8, 12,  7,\n",
              "        8,  6,  5,  7,  8,  8,  5, 11,  5,  7,  6,  6,  7,  9, 10,  6,  7,\n",
              "        8,  5,  3, 12,  7,  9,  5,  6,  5,  9,  6, 10,  5,  7,  5,  6, 11,\n",
              "        5,  5,  5,  4,  5,  4,  5,  4,  3,  7,  5,  6, 11,  4,  5,  6,  8,\n",
              "       10,  7,  3, 11,  6,  8,  7,  9,  5, 10,  9,  9,  5,  5,  9, 12, 10,\n",
              "       12,  6,  7, 12,  6,  6,  7,  4,  4,  6,  7,  4,  3,  4,  8, 11,  5,\n",
              "        9,  4,  8,  4,  7,  8,  8, 12, 10,  6,  7, 12, 12, 11,  5,  3, 12,\n",
              "        4,  9,  8,  7,  9,  8,  5,  5,  7, 11,  7, 10,  7, 10,  8,  5,  5,\n",
              "        6,  8, 10,  5,  4,  6,  8,  7,  8,  8,  9,  7, 12, 10, 10,  3,  6,\n",
              "        8,  7,  2,  6,  7,  8,  6,  3,  6,  9,  7, 11,  8,  4, 10,  7,  5,\n",
              "        8,  5,  9,  9,  6,  8,  9,  6,  6,  6,  4, 11,  9,  7,  9,  8,  8,\n",
              "        9,  6,  8, 12,  3,  8,  9,  9,  6,  9,  9,  2,  7,  7,  3,  5,  3,\n",
              "        9,  2,  5, 10,  8,  6, 12,  7,  8,  2, 10,  6,  5,  5,  3,  4,  8,\n",
              "        7,  7,  6,  4,  8,  8,  6,  6,  4,  5, 11,  8,  6,  9,  6,  7,  5,\n",
              "        9,  7,  8,  3,  6,  9,  4,  3,  8,  6,  6, 11,  9,  6, 11,  6,  3,\n",
              "        8, 10,  8, 12,  7,  7,  7,  9,  4,  8,  8,  4, 10,  3,  9,  5,  7,\n",
              "        8, 11,  8,  8,  7, 10,  9,  6, 10,  6,  5, 11,  6,  8,  7,  7,  4,\n",
              "       11,  7,  8, 11,  7,  7,  7, 10,  7,  6, 11,  3,  6,  7,  3,  4,  3,\n",
              "        2,  5,  7,  7,  7, 11, 10,  9,  8,  9,  2,  7,  7,  7,  6,  9,  3,\n",
              "        4,  8, 11, 11, 10,  4, 11, 11,  4,  6,  3,  9,  9,  7,  7,  9, 11,\n",
              "       11, 11,  5, 10,  8,  8,  7,  6,  6,  5,  8,  9, 10, 11,  4,  5,  8,\n",
              "        6,  7,  7,  3,  7,  8,  6,  8,  8,  8,  6,  8, 10,  7,  7, 11,  4,\n",
              "        3,  7,  7,  6,  6,  3,  3,  5,  3,  5, 11,  8, 12,  7,  7,  7,  9,\n",
              "        8,  2,  6,  4,  7,  7,  6,  8,  8,  5,  7, 11,  6,  4, 11,  3,  6,\n",
              "        4,  4,  7,  9,  9,  8,  8,  8, 11,  5,  8,  4,  8,  8,  8,  7, 11,\n",
              "        6,  7,  5, 11,  8,  5,  7, 10,  2,  7,  8,  9,  9,  8])"
            ]
          },
          "metadata": {},
          "execution_count": 49
        }
      ]
    },
    {
      "cell_type": "code",
      "source": [
        "#To find which number is the most frequent in the 100 values in the array\n",
        "\n",
        "import seaborn as sns\n",
        "\n",
        "sns.histplot(sumofDice, bins = [2, 3, 4, 5, 6, 7, 8, 9, 10, 11 , 12, 13]) #Python never includes the ceiling of specified values,\n",
        "    #so always add one to your max value so it includes your max value\n",
        "#The more times you play the game, the more normalized the graph becomes"
      ],
      "metadata": {
        "colab": {
          "base_uri": "https://localhost:8080/",
          "height": 447
        },
        "id": "ZKD-yBLkyrlj",
        "outputId": "8d2411c7-98b2-4278-fdda-99dde208b137"
      },
      "execution_count": 50,
      "outputs": [
        {
          "output_type": "execute_result",
          "data": {
            "text/plain": [
              "<Axes: ylabel='Count'>"
            ]
          },
          "metadata": {},
          "execution_count": 50
        },
        {
          "output_type": "display_data",
          "data": {
            "text/plain": [
              "<Figure size 640x480 with 1 Axes>"
            ],
            "image/png": "[encoded data removed]"
          },
          "metadata": {}
        }
      ]
    },
    {
      "cell_type": "code",
      "source": [],
      "metadata": {
        "id": "wEwKDS_b0TVm"
      },
      "execution_count": null,
      "outputs": []
    }
  ]
}