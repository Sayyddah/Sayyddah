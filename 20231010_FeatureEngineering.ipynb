{
  "nbformat": 4,
  "nbformat_minor": 0,
  "metadata": {
    "colab": {
      "provenance": [],
      "authorship_tag": "ABX9TyMYarsQbExl4yCnioJyLf24",
      "include_colab_link": true
    },
    "kernelspec": {
      "name": "python3",
      "display_name": "Python 3"
    },
    "language_info": {
      "name": "python"
    }
  },
  "cells": [
    {
      "cell_type": "markdown",
      "metadata": {
        "id": "view-in-github",
        "colab_type": "text"
      },
      "source": [
        "<a href=\"https://colab.research.google.com/github/Sayyddah/Sayyddah/blob/main/20231010_FeatureEngineering.ipynb\" target=\"_parent\"><img src=\"https://colab.research.google.com/assets/colab-badge.svg\" alt=\"Open In Colab\"/></a>"
      ]
    },
    {
      "cell_type": "code",
      "execution_count": 1,
      "metadata": {
        "id": "i-qDu1hm0Svm"
      },
      "outputs": [],
      "source": [
        "import sklearn\n",
        "from sklearn.datasets import load_diabetes"
      ]
    },
    {
      "cell_type": "code",
      "source": [
        "df = load_diabetes(as_frame = True).frame\n",
        "vars = ['bmi', 'bp', 's1', 's2','s3', 's5']\n",
        "X = df[vars]\n",
        "y = df['target']"
      ],
      "metadata": {
        "id": "o5Q0KO-G0TV3"
      },
      "execution_count": 25,
      "outputs": []
    },
    {
      "cell_type": "code",
      "source": [
        "from sklearn.linear_model import LinearRegression"
      ],
      "metadata": {
        "id": "jUP7GnQQ0TZx"
      },
      "execution_count": 26,
      "outputs": []
    },
    {
      "cell_type": "code",
      "source": [
        "lr = LinearRegression()   #defining model type\n",
        "model = lr.fit(X,y)"
      ],
      "metadata": {
        "id": "vD0bEIRA0cXH"
      },
      "execution_count": 27,
      "outputs": []
    },
    {
      "cell_type": "code",
      "source": [
        "y_pred = model.predict(X) #use model to predict test\n",
        "\n",
        "#to judge model, compare actual value to predicted value"
      ],
      "metadata": {
        "id": "H6KoxL3l1CDC"
      },
      "execution_count": 28,
      "outputs": []
    },
    {
      "cell_type": "code",
      "source": [
        "y[:5]\n"
      ],
      "metadata": {
        "colab": {
          "base_uri": "https://localhost:8080/"
        },
        "id": "yp1mRdgy18WD",
        "outputId": "40760ebf-cad2-41a1-92d2-172ea7b7e5d1"
      },
      "execution_count": 29,
      "outputs": [
        {
          "output_type": "execute_result",
          "data": {
            "text/plain": [
              "0    151.0\n",
              "1     75.0\n",
              "2    141.0\n",
              "3    206.0\n",
              "4    135.0\n",
              "Name: target, dtype: float64"
            ]
          },
          "metadata": {},
          "execution_count": 29
        }
      ]
    },
    {
      "cell_type": "code",
      "source": [
        "y_pred[:5]"
      ],
      "metadata": {
        "colab": {
          "base_uri": "https://localhost:8080/"
        },
        "id": "5pYSKBsP2D9C",
        "outputId": "87b203fe-2d2e-44e6-c333-9677f4861b50"
      },
      "execution_count": 30,
      "outputs": [
        {
          "output_type": "execute_result",
          "data": {
            "text/plain": [
              "array([219.82909104,  63.96021564, 191.07993947, 154.12888681,\n",
              "       117.44153581])"
            ]
          },
          "metadata": {},
          "execution_count": 30
        }
      ]
    },
    {
      "cell_type": "code",
      "source": [
        "from sklearn.metrics import mean_absolute_error"
      ],
      "metadata": {
        "id": "9S6irdP62p2B"
      },
      "execution_count": 31,
      "outputs": []
    },
    {
      "cell_type": "code",
      "source": [
        "mean_absolute_error(y, y_pred)"
      ],
      "metadata": {
        "colab": {
          "base_uri": "https://localhost:8080/"
        },
        "id": "YQxQ2kPM21ki",
        "outputId": "a84ddb47-1d0d-4a11-fd99-1891ec9a645a"
      },
      "execution_count": 32,
      "outputs": [
        {
          "output_type": "execute_result",
          "data": {
            "text/plain": [
              "44.567343158779444"
            ]
          },
          "metadata": {},
          "execution_count": 32
        }
      ]
    },
    {
      "cell_type": "code",
      "source": [
        "model.coef_ #larger coefficients denote more influence regardless of direction (+/-)"
      ],
      "metadata": {
        "colab": {
          "base_uri": "https://localhost:8080/"
        },
        "id": "z1QjKxG43Kpw",
        "outputId": "ed6fec29-dae6-428a-abfe-c7e1d8c17d8a"
      },
      "execution_count": 33,
      "outputs": [
        {
          "output_type": "execute_result",
          "data": {
            "text/plain": [
              "array([ 562.70373795,  273.93634159, -591.85020553,  380.0512011 ,\n",
              "         20.08156354,  749.40765505])"
            ]
          },
          "metadata": {},
          "execution_count": 33
        }
      ]
    },
    {
      "cell_type": "code",
      "source": [
        "from sklearn.datasets import load_breast_cancer\n",
        "cancer = load_breast_cancer(as_frame=True).frame\n",
        "cancer.head()\n",
        "vars = ['mean radius', 'worst perimeter', 'worst area']\n",
        "\n",
        "X=cancer[vars]\n",
        "y=cancer['target']"
      ],
      "metadata": {
        "id": "f-kjJ1XS5Vx1"
      },
      "execution_count": 38,
      "outputs": []
    },
    {
      "cell_type": "code",
      "source": [
        "#logistic regression to predict whether a patient has cancer\n",
        "from sklearn.linear_model import LogisticRegression\n",
        "#linear regression and logistic regression are both linear models\n",
        "logr = LogisticRegression()\n",
        "model_logr = logr.fit(X,y)\n",
        "y_predlog = model_logr.predict(X)\n",
        "\n",
        "from sklearn.metrics import r2_score\n",
        "r2_score(y, y_predlog)  #r2 of .74 is decent, not great\n",
        "y[:5]\n",
        "y_predlog[:5]"
      ],
      "metadata": {
        "colab": {
          "base_uri": "https://localhost:8080/"
        },
        "id": "aYCIgSCV6G_b",
        "outputId": "d6c28b78-704e-4a28-b8fb-74bcd1d280d3"
      },
      "execution_count": 45,
      "outputs": [
        {
          "output_type": "execute_result",
          "data": {
            "text/plain": [
              "0.7443845462713388"
            ]
          },
          "metadata": {},
          "execution_count": 45
        }
      ]
    },
    {
      "cell_type": "code",
      "source": [
        "from sklearn.model_selection import train_test_split\n",
        " #splitting data into training and test parts. Default is 75% and 25% split.\n",
        " #We are using 20% for test and setting random state as 7 so we get consistent results whenever we run data\n",
        "X_train, X_test, y_train, y_test = train_test_split(X, y, test_size = 0.20, random_state=101)"
      ],
      "metadata": {
        "id": "azUbEA1B_3o5"
      },
      "execution_count": 71,
      "outputs": []
    },
    {
      "cell_type": "code",
      "source": [
        "#decision tree classifier model to predict whether a patient has cancer\n",
        "from sklearn.tree import DecisionTreeClassifier\n",
        "tree = DecisionTreeClassifier()\n",
        "tree_model = tree.fit(X_train,y_train)\n",
        "y_predtree = tree_model.predict(X_test)\n",
        "\n",
        "from sklearn.metrics import r2_score\n",
        "r2_score(y_test, y_predtree)  #r2 of .74 is decent, not great\n"
      ],
      "metadata": {
        "colab": {
          "base_uri": "https://localhost:8080/"
        },
        "id": "ZdCKZf8y6mRb",
        "outputId": "6d1accc2-d0ba-4395-d9d3-42df429dbf0c"
      },
      "execution_count": 72,
      "outputs": [
        {
          "output_type": "execute_result",
          "data": {
            "text/plain": [
              "0.7361111111111112"
            ]
          },
          "metadata": {},
          "execution_count": 72
        }
      ]
    },
    {
      "cell_type": "code",
      "source": [
        "y_test[:5]"
      ],
      "metadata": {
        "colab": {
          "base_uri": "https://localhost:8080/"
        },
        "id": "D68WPXD-61-Y",
        "outputId": "6e5805ba-559a-4ef0-cff4-a6c4583b7219"
      },
      "execution_count": 76,
      "outputs": [
        {
          "output_type": "execute_result",
          "data": {
            "text/plain": [
              "107    1\n",
              "437    1\n",
              "195    1\n",
              "141    0\n",
              "319    1\n",
              "Name: target, dtype: int64"
            ]
          },
          "metadata": {},
          "execution_count": 76
        }
      ]
    },
    {
      "cell_type": "code",
      "source": [
        "y_predtree[:5]"
      ],
      "metadata": {
        "colab": {
          "base_uri": "https://localhost:8080/"
        },
        "id": "lkAF076RBYJH",
        "outputId": "3201ae78-bc7d-419e-f593-a033d2380266"
      },
      "execution_count": 77,
      "outputs": [
        {
          "output_type": "execute_result",
          "data": {
            "text/plain": [
              "array([1, 1, 1, 0, 1])"
            ]
          },
          "metadata": {},
          "execution_count": 77
        }
      ]
    },
    {
      "cell_type": "code",
      "source": [
        "#random forest classifier model to predict whether a patient has cancer\n",
        "from sklearn.ensemble import RandomForestClassifier\n",
        "rf = RandomForestClassifier()\n",
        "rf_model = rf.fit(X_train,y_train)\n",
        "y_predrf = rf_model.predict(X_test)\n",
        "\n",
        "from sklearn.metrics import r2_score\n",
        "r2_score(y_test, y_predrf)"
      ],
      "metadata": {
        "colab": {
          "base_uri": "https://localhost:8080/"
        },
        "id": "A9aLCcBIBsND",
        "outputId": "c31a8b2e-3f08-4740-d7a2-33dab8e94a4f"
      },
      "execution_count": 81,
      "outputs": [
        {
          "output_type": "execute_result",
          "data": {
            "text/plain": [
              "0.9246031746031746"
            ]
          },
          "metadata": {},
          "execution_count": 81
        }
      ]
    },
    {
      "cell_type": "code",
      "source": [
        "#MLP - Multi-layer perceptron\n",
        "from sklearn.neural_network import MLPClassifier\n",
        "mlp = MLPClassifier()\n",
        "mlp_model = mlp.fit(X_train,y_train)\n",
        "y_predmlp = mlp_model.predict(X_test)\n",
        "\n",
        "from sklearn.metrics import r2_score\n",
        "r2_score(y_test, y_predmlp)"
      ],
      "metadata": {
        "colab": {
          "base_uri": "https://localhost:8080/"
        },
        "id": "YDbuCJgFCsCG",
        "outputId": "f17a2244-30b2-42f8-86c9-56bac2c5f3a6"
      },
      "execution_count": 82,
      "outputs": [
        {
          "output_type": "execute_result",
          "data": {
            "text/plain": [
              "0.6607142857142858"
            ]
          },
          "metadata": {},
          "execution_count": 82
        }
      ]
    },
    {
      "cell_type": "code",
      "source": [
        "from sklearn.naive_bayes import GaussianNB #this assumes data has a gaussian distribution but still predicts as categorical\n",
        "gnb = GaussianNB()\n",
        "gnb_model = gnb.fit(X_train,y_train)\n",
        "y_predgnb = gnb_model.predict(X_test)\n",
        "\n",
        "from sklearn.metrics import r2_score\n",
        "r2_score(y_test, y_predgnb)"
      ],
      "metadata": {
        "colab": {
          "base_uri": "https://localhost:8080/"
        },
        "id": "GoQ_yhQDDNsH",
        "outputId": "8425f453-0cb0-4c78-c8e3-89a643894b0e"
      },
      "execution_count": 83,
      "outputs": [
        {
          "output_type": "execute_result",
          "data": {
            "text/plain": [
              "0.6984126984126985"
            ]
          },
          "metadata": {},
          "execution_count": 83
        }
      ]
    },
    {
      "cell_type": "code",
      "source": [
        "from sklearn.neighbors import KNeighborsClassifier\n",
        "knn = KNeighborsClassifier()\n",
        "knn_model = knn.fit(X_train,y_train)\n",
        "y_predknn = knn_model.predict(X_test)\n",
        "\n",
        "from sklearn.metrics import r2_score\n",
        "r2_score(y_test, y_predknn)"
      ],
      "metadata": {
        "colab": {
          "base_uri": "https://localhost:8080/"
        },
        "id": "WSLemxzODx2s",
        "outputId": "f6d610e7-0bcd-43ef-e5ca-5c808f808d1e"
      },
      "execution_count": 86,
      "outputs": [
        {
          "output_type": "execute_result",
          "data": {
            "text/plain": [
              "0.6607142857142858"
            ]
          },
          "metadata": {},
          "execution_count": 86
        }
      ]
    },
    {
      "cell_type": "code",
      "source": [
        "from sklearn.model_selection import cross_val_score"
      ],
      "metadata": {
        "id": "kp51zWc5EokB"
      },
      "execution_count": 87,
      "outputs": []
    },
    {
      "cell_type": "code",
      "source": [
        "cross_val_score(knn, X, y).mean()"
      ],
      "metadata": {
        "colab": {
          "base_uri": "https://localhost:8080/"
        },
        "id": "sfX7ai4tEyeI",
        "outputId": "c3f12301-b774-4817-eea5-9650c12155fa"
      },
      "execution_count": 89,
      "outputs": [
        {
          "output_type": "execute_result",
          "data": {
            "text/plain": [
              "0.896320447135538"
            ]
          },
          "metadata": {},
          "execution_count": 89
        }
      ]
    },
    {
      "cell_type": "code",
      "source": [
        "cross_val_score(gnb, X, y).mean()"
      ],
      "metadata": {
        "colab": {
          "base_uri": "https://localhost:8080/"
        },
        "id": "zdviEe3yF8lM",
        "outputId": "3f8c220b-cd4e-4e4b-85d7-c8a1d8f72028"
      },
      "execution_count": 90,
      "outputs": [
        {
          "output_type": "execute_result",
          "data": {
            "text/plain": [
              "0.9104176370128861"
            ]
          },
          "metadata": {},
          "execution_count": 90
        }
      ]
    },
    {
      "cell_type": "code",
      "source": [
        "cross_val_score(mlp, X, y).mean()"
      ],
      "metadata": {
        "colab": {
          "base_uri": "https://localhost:8080/"
        },
        "id": "7cbKK4IJGALe",
        "outputId": "cf9ef83a-594f-4044-ea62-2d49a332faa7"
      },
      "execution_count": 94,
      "outputs": [
        {
          "output_type": "execute_result",
          "data": {
            "text/plain": [
              "0.8945505356311132"
            ]
          },
          "metadata": {},
          "execution_count": 94
        }
      ]
    },
    {
      "cell_type": "code",
      "source": [
        "cross_val_score(rf, X, y).mean()"
      ],
      "metadata": {
        "colab": {
          "base_uri": "https://localhost:8080/"
        },
        "id": "GgKWGlNvGHzG",
        "outputId": "75a97c77-341e-42dc-db2f-2613afc149e5"
      },
      "execution_count": 92,
      "outputs": [
        {
          "output_type": "execute_result",
          "data": {
            "text/plain": [
              "0.9262071106970966"
            ]
          },
          "metadata": {},
          "execution_count": 92
        }
      ]
    },
    {
      "cell_type": "code",
      "source": [
        "cross_val_score(tree, X, y).mean()"
      ],
      "metadata": {
        "colab": {
          "base_uri": "https://localhost:8080/"
        },
        "id": "pCsW3FxtGJ_y",
        "outputId": "b30489dc-36e9-4ceb-dfcf-b7810bd22592"
      },
      "execution_count": 93,
      "outputs": [
        {
          "output_type": "execute_result",
          "data": {
            "text/plain": [
              "0.9226672876882471"
            ]
          },
          "metadata": {},
          "execution_count": 93
        }
      ]
    },
    {
      "cell_type": "code",
      "source": [
        "from sklearn.metrics import confusion_matrix"
      ],
      "metadata": {
        "id": "2MoCNH1AIPj7"
      },
      "execution_count": 95,
      "outputs": []
    },
    {
      "cell_type": "code",
      "source": [
        "confusion_matrix(y_test, y_predrf)\n",
        "#   T    F\n",
        "#T  TP  FN\n",
        "#F  FP  TN"
      ],
      "metadata": {
        "colab": {
          "base_uri": "https://localhost:8080/"
        },
        "id": "-Ofloh3XITGC",
        "outputId": "c71f18e7-ec1c-4639-f32a-bc47c75cff72"
      },
      "execution_count": 96,
      "outputs": [
        {
          "output_type": "execute_result",
          "data": {
            "text/plain": [
              "array([[40,  2],\n",
              "       [ 0, 72]])"
            ]
          },
          "metadata": {},
          "execution_count": 96
        }
      ]
    },
    {
      "cell_type": "code",
      "source": [
        "#the entire process we just performed is called feature engineering\n",
        "#looking at different train test splits and cv"
      ],
      "metadata": {
        "id": "euKq-JYAKKij"
      },
      "execution_count": null,
      "outputs": []
    }
  ]
}